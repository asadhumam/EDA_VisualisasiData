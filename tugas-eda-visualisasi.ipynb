{
 "cells": [
  {
   "cell_type": "code",
   "execution_count": 1,
   "id": "48b0c6c9",
   "metadata": {
    "_cell_guid": "b1076dfc-b9ad-4769-8c92-a6c4dae69d19",
    "_uuid": "8f2839f25d086af736a60e9eeb907d3b93b6e0e5",
    "execution": {
     "iopub.execute_input": "2022-02-01T02:39:17.116577Z",
     "iopub.status.busy": "2022-02-01T02:39:17.115897Z",
     "iopub.status.idle": "2022-02-01T02:39:17.130303Z",
     "shell.execute_reply": "2022-02-01T02:39:17.130798Z",
     "shell.execute_reply.started": "2022-02-01T02:32:52.402266Z"
    },
    "papermill": {
     "duration": 0.066109,
     "end_time": "2022-02-01T02:39:17.131175",
     "exception": false,
     "start_time": "2022-02-01T02:39:17.065066",
     "status": "completed"
    },
    "tags": []
   },
   "outputs": [
    {
     "name": "stdout",
     "output_type": "stream",
     "text": [
      "/kaggle/input/dataset/data_subjects_info.csv\n"
     ]
    }
   ],
   "source": [
    "# This Python 3 environment comes with many helpful analytics libraries installed\n",
    "# It is defined by the kaggle/python Docker image: https://github.com/kaggle/docker-python\n",
    "# For example, here's several helpful packages to load\n",
    "\n",
    "import numpy as np # linear algebra\n",
    "import pandas as pd # data processing, CSV file I/O (e.g. pd.read_csv)\n",
    "\n",
    "# Input data files are available in the read-only \"../input/\" directory\n",
    "# For example, running this (by clicking run or pressing Shift+Enter) will list all files under the input directory\n",
    "\n",
    "import os\n",
    "for dirname, _, filenames in os.walk('/kaggle/input'):\n",
    "    for filename in filenames:\n",
    "        print(os.path.join(dirname, filename))\n",
    "\n",
    "# You can write up to 20GB to the current directory (/kaggle/working/) that gets preserved as output when you create a version using \"Save & Run All\" \n",
    "# You can also write temporary files to /kaggle/temp/, but they won't be saved outside of the current session"
   ]
  },
  {
   "cell_type": "code",
   "execution_count": 2,
   "id": "48ddc5ca",
   "metadata": {
    "execution": {
     "iopub.execute_input": "2022-02-01T02:39:17.210507Z",
     "iopub.status.busy": "2022-02-01T02:39:17.209775Z",
     "iopub.status.idle": "2022-02-01T02:39:17.236671Z",
     "shell.execute_reply": "2022-02-01T02:39:17.235941Z",
     "shell.execute_reply.started": "2022-02-01T02:32:52.414812Z"
    },
    "papermill": {
     "duration": 0.068025,
     "end_time": "2022-02-01T02:39:17.236818",
     "exception": false,
     "start_time": "2022-02-01T02:39:17.168793",
     "status": "completed"
    },
    "tags": []
   },
   "outputs": [
    {
     "data": {
      "text/html": [
       "<div>\n",
       "<style scoped>\n",
       "    .dataframe tbody tr th:only-of-type {\n",
       "        vertical-align: middle;\n",
       "    }\n",
       "\n",
       "    .dataframe tbody tr th {\n",
       "        vertical-align: top;\n",
       "    }\n",
       "\n",
       "    .dataframe thead th {\n",
       "        text-align: right;\n",
       "    }\n",
       "</style>\n",
       "<table border=\"1\" class=\"dataframe\">\n",
       "  <thead>\n",
       "    <tr style=\"text-align: right;\">\n",
       "      <th></th>\n",
       "      <th>code</th>\n",
       "      <th>weight</th>\n",
       "      <th>height</th>\n",
       "      <th>age</th>\n",
       "      <th>gender</th>\n",
       "    </tr>\n",
       "  </thead>\n",
       "  <tbody>\n",
       "    <tr>\n",
       "      <th>0</th>\n",
       "      <td>1</td>\n",
       "      <td>102</td>\n",
       "      <td>188</td>\n",
       "      <td>46</td>\n",
       "      <td>1</td>\n",
       "    </tr>\n",
       "    <tr>\n",
       "      <th>1</th>\n",
       "      <td>2</td>\n",
       "      <td>72</td>\n",
       "      <td>180</td>\n",
       "      <td>28</td>\n",
       "      <td>1</td>\n",
       "    </tr>\n",
       "    <tr>\n",
       "      <th>2</th>\n",
       "      <td>3</td>\n",
       "      <td>48</td>\n",
       "      <td>161</td>\n",
       "      <td>28</td>\n",
       "      <td>0</td>\n",
       "    </tr>\n",
       "    <tr>\n",
       "      <th>3</th>\n",
       "      <td>4</td>\n",
       "      <td>90</td>\n",
       "      <td>176</td>\n",
       "      <td>31</td>\n",
       "      <td>1</td>\n",
       "    </tr>\n",
       "    <tr>\n",
       "      <th>4</th>\n",
       "      <td>5</td>\n",
       "      <td>48</td>\n",
       "      <td>164</td>\n",
       "      <td>23</td>\n",
       "      <td>0</td>\n",
       "    </tr>\n",
       "  </tbody>\n",
       "</table>\n",
       "</div>"
      ],
      "text/plain": [
       "   code  weight  height  age  gender\n",
       "0     1     102     188   46       1\n",
       "1     2      72     180   28       1\n",
       "2     3      48     161   28       0\n",
       "3     4      90     176   31       1\n",
       "4     5      48     164   23       0"
      ]
     },
     "execution_count": 2,
     "metadata": {},
     "output_type": "execute_result"
    }
   ],
   "source": [
    "test_df = pd.read_csv('/kaggle/input/dataset/data_subjects_info.csv')\n",
    "test_df.head()"
   ]
  },
  {
   "cell_type": "code",
   "execution_count": 3,
   "id": "73dab15a",
   "metadata": {
    "execution": {
     "iopub.execute_input": "2022-02-01T02:39:17.315759Z",
     "iopub.status.busy": "2022-02-01T02:39:17.315070Z",
     "iopub.status.idle": "2022-02-01T02:39:17.319736Z",
     "shell.execute_reply": "2022-02-01T02:39:17.320289Z",
     "shell.execute_reply.started": "2022-02-01T02:32:52.435263Z"
    },
    "papermill": {
     "duration": 0.046641,
     "end_time": "2022-02-01T02:39:17.320466",
     "exception": false,
     "start_time": "2022-02-01T02:39:17.273825",
     "status": "completed"
    },
    "tags": []
   },
   "outputs": [
    {
     "data": {
      "text/plain": [
       "(24, 5)"
      ]
     },
     "execution_count": 3,
     "metadata": {},
     "output_type": "execute_result"
    }
   ],
   "source": [
    "test_df.shape"
   ]
  },
  {
   "cell_type": "code",
   "execution_count": 4,
   "id": "58d5bbe1",
   "metadata": {
    "execution": {
     "iopub.execute_input": "2022-02-01T02:39:17.401717Z",
     "iopub.status.busy": "2022-02-01T02:39:17.398284Z",
     "iopub.status.idle": "2022-02-01T02:39:17.405454Z",
     "shell.execute_reply": "2022-02-01T02:39:17.404901Z",
     "shell.execute_reply.started": "2022-02-01T02:32:52.442842Z"
    },
    "papermill": {
     "duration": 0.047818,
     "end_time": "2022-02-01T02:39:17.405597",
     "exception": false,
     "start_time": "2022-02-01T02:39:17.357779",
     "status": "completed"
    },
    "tags": []
   },
   "outputs": [
    {
     "data": {
      "text/plain": [
       "code      int64\n",
       "weight    int64\n",
       "height    int64\n",
       "age       int64\n",
       "gender    int64\n",
       "dtype: object"
      ]
     },
     "execution_count": 4,
     "metadata": {},
     "output_type": "execute_result"
    }
   ],
   "source": [
    "test_df.dtypes"
   ]
  },
  {
   "cell_type": "code",
   "execution_count": 5,
   "id": "95001e9f",
   "metadata": {
    "execution": {
     "iopub.execute_input": "2022-02-01T02:39:17.488660Z",
     "iopub.status.busy": "2022-02-01T02:39:17.487920Z",
     "iopub.status.idle": "2022-02-01T02:39:17.490553Z",
     "shell.execute_reply": "2022-02-01T02:39:17.491087Z",
     "shell.execute_reply.started": "2022-02-01T02:32:52.456365Z"
    },
    "papermill": {
     "duration": 0.04809,
     "end_time": "2022-02-01T02:39:17.491265",
     "exception": false,
     "start_time": "2022-02-01T02:39:17.443175",
     "status": "completed"
    },
    "tags": []
   },
   "outputs": [
    {
     "data": {
      "text/plain": [
       "<bound method DataFrame.info of     code  weight  height  age  gender\n",
       "0      1     102     188   46       1\n",
       "1      2      72     180   28       1\n",
       "2      3      48     161   28       0\n",
       "3      4      90     176   31       1\n",
       "4      5      48     164   23       0\n",
       "5      6      76     180   28       1\n",
       "6      7      62     175   30       0\n",
       "7      8      52     161   24       0\n",
       "8      9      93     190   32       1\n",
       "9     10      72     164   31       0\n",
       "10    11      70     178   24       1\n",
       "11    12      60     167   33       1\n",
       "12    13      60     178   33       1\n",
       "13    14      70     180   35       1\n",
       "14    15      70     185   33       1\n",
       "15    16      96     172   29       0\n",
       "16    17      76     180   26       1\n",
       "17    18      54     164   26       0\n",
       "18    19      78     164   28       0\n",
       "19    20      88     180   25       1\n",
       "20    21      52     165   24       1\n",
       "21    22     100     186   31       1\n",
       "22    23      68     170   25       0\n",
       "23    24      74     173   18       0>"
      ]
     },
     "execution_count": 5,
     "metadata": {},
     "output_type": "execute_result"
    }
   ],
   "source": [
    "test_df.info"
   ]
  },
  {
   "cell_type": "code",
   "execution_count": 6,
   "id": "eb99dc38",
   "metadata": {
    "execution": {
     "iopub.execute_input": "2022-02-01T02:39:17.571936Z",
     "iopub.status.busy": "2022-02-01T02:39:17.571288Z",
     "iopub.status.idle": "2022-02-01T02:39:17.577540Z",
     "shell.execute_reply": "2022-02-01T02:39:17.576883Z",
     "shell.execute_reply.started": "2022-02-01T02:32:52.469931Z"
    },
    "papermill": {
     "duration": 0.047293,
     "end_time": "2022-02-01T02:39:17.577684",
     "exception": false,
     "start_time": "2022-02-01T02:39:17.530391",
     "status": "completed"
    },
    "tags": []
   },
   "outputs": [
    {
     "data": {
      "text/plain": [
       "False"
      ]
     },
     "execution_count": 6,
     "metadata": {},
     "output_type": "execute_result"
    }
   ],
   "source": [
    "test_df.isna().values.any()"
   ]
  },
  {
   "cell_type": "code",
   "execution_count": 7,
   "id": "3d339813",
   "metadata": {
    "execution": {
     "iopub.execute_input": "2022-02-01T02:39:17.673636Z",
     "iopub.status.busy": "2022-02-01T02:39:17.672890Z",
     "iopub.status.idle": "2022-02-01T02:39:17.675470Z",
     "shell.execute_reply": "2022-02-01T02:39:17.675951Z",
     "shell.execute_reply.started": "2022-02-01T02:32:52.477241Z"
    },
    "papermill": {
     "duration": 0.059323,
     "end_time": "2022-02-01T02:39:17.676153",
     "exception": false,
     "start_time": "2022-02-01T02:39:17.616830",
     "status": "completed"
    },
    "tags": []
   },
   "outputs": [
    {
     "data": {
      "text/html": [
       "<div>\n",
       "<style scoped>\n",
       "    .dataframe tbody tr th:only-of-type {\n",
       "        vertical-align: middle;\n",
       "    }\n",
       "\n",
       "    .dataframe tbody tr th {\n",
       "        vertical-align: top;\n",
       "    }\n",
       "\n",
       "    .dataframe thead th {\n",
       "        text-align: right;\n",
       "    }\n",
       "</style>\n",
       "<table border=\"1\" class=\"dataframe\">\n",
       "  <thead>\n",
       "    <tr style=\"text-align: right;\">\n",
       "      <th></th>\n",
       "      <th>code</th>\n",
       "      <th>weight</th>\n",
       "      <th>height</th>\n",
       "      <th>age</th>\n",
       "      <th>gender</th>\n",
       "    </tr>\n",
       "  </thead>\n",
       "  <tbody>\n",
       "  </tbody>\n",
       "</table>\n",
       "</div>"
      ],
      "text/plain": [
       "Empty DataFrame\n",
       "Columns: [code, weight, height, age, gender]\n",
       "Index: []"
      ]
     },
     "execution_count": 7,
     "metadata": {},
     "output_type": "execute_result"
    }
   ],
   "source": [
    "test_df[test_df.duplicated()]"
   ]
  },
  {
   "cell_type": "code",
   "execution_count": 8,
   "id": "c31b43c7",
   "metadata": {
    "execution": {
     "iopub.execute_input": "2022-02-01T02:39:17.760153Z",
     "iopub.status.busy": "2022-02-01T02:39:17.759406Z",
     "iopub.status.idle": "2022-02-01T02:39:17.765355Z",
     "shell.execute_reply": "2022-02-01T02:39:17.765866Z",
     "shell.execute_reply.started": "2022-02-01T02:32:52.953466Z"
    },
    "papermill": {
     "duration": 0.0512,
     "end_time": "2022-02-01T02:39:17.766072",
     "exception": false,
     "start_time": "2022-02-01T02:39:17.714872",
     "status": "completed"
    },
    "tags": []
   },
   "outputs": [
    {
     "data": {
      "text/plain": [
       "False    24\n",
       "dtype: int64"
      ]
     },
     "execution_count": 8,
     "metadata": {},
     "output_type": "execute_result"
    }
   ],
   "source": [
    "test_df.duplicated().value_counts()"
   ]
  },
  {
   "cell_type": "code",
   "execution_count": 9,
   "id": "e4483bff",
   "metadata": {
    "execution": {
     "iopub.execute_input": "2022-02-01T02:39:17.855933Z",
     "iopub.status.busy": "2022-02-01T02:39:17.847638Z",
     "iopub.status.idle": "2022-02-01T02:39:17.878218Z",
     "shell.execute_reply": "2022-02-01T02:39:17.877516Z",
     "shell.execute_reply.started": "2022-02-01T02:32:52.964266Z"
    },
    "papermill": {
     "duration": 0.072668,
     "end_time": "2022-02-01T02:39:17.878381",
     "exception": false,
     "start_time": "2022-02-01T02:39:17.805713",
     "status": "completed"
    },
    "tags": []
   },
   "outputs": [
    {
     "data": {
      "text/html": [
       "<div>\n",
       "<style scoped>\n",
       "    .dataframe tbody tr th:only-of-type {\n",
       "        vertical-align: middle;\n",
       "    }\n",
       "\n",
       "    .dataframe tbody tr th {\n",
       "        vertical-align: top;\n",
       "    }\n",
       "\n",
       "    .dataframe thead th {\n",
       "        text-align: right;\n",
       "    }\n",
       "</style>\n",
       "<table border=\"1\" class=\"dataframe\">\n",
       "  <thead>\n",
       "    <tr style=\"text-align: right;\">\n",
       "      <th></th>\n",
       "      <th>code</th>\n",
       "      <th>weight</th>\n",
       "      <th>height</th>\n",
       "      <th>age</th>\n",
       "      <th>gender</th>\n",
       "    </tr>\n",
       "  </thead>\n",
       "  <tbody>\n",
       "    <tr>\n",
       "      <th>count</th>\n",
       "      <td>24.000000</td>\n",
       "      <td>24.000000</td>\n",
       "      <td>24.000000</td>\n",
       "      <td>24.000000</td>\n",
       "      <td>24.000000</td>\n",
       "    </tr>\n",
       "    <tr>\n",
       "      <th>mean</th>\n",
       "      <td>12.500000</td>\n",
       "      <td>72.125000</td>\n",
       "      <td>174.208333</td>\n",
       "      <td>28.791667</td>\n",
       "      <td>0.583333</td>\n",
       "    </tr>\n",
       "    <tr>\n",
       "      <th>std</th>\n",
       "      <td>7.071068</td>\n",
       "      <td>16.211409</td>\n",
       "      <td>8.900313</td>\n",
       "      <td>5.437224</td>\n",
       "      <td>0.503610</td>\n",
       "    </tr>\n",
       "    <tr>\n",
       "      <th>min</th>\n",
       "      <td>1.000000</td>\n",
       "      <td>48.000000</td>\n",
       "      <td>161.000000</td>\n",
       "      <td>18.000000</td>\n",
       "      <td>0.000000</td>\n",
       "    </tr>\n",
       "    <tr>\n",
       "      <th>25%</th>\n",
       "      <td>6.750000</td>\n",
       "      <td>60.000000</td>\n",
       "      <td>164.750000</td>\n",
       "      <td>25.000000</td>\n",
       "      <td>0.000000</td>\n",
       "    </tr>\n",
       "    <tr>\n",
       "      <th>50%</th>\n",
       "      <td>12.500000</td>\n",
       "      <td>71.000000</td>\n",
       "      <td>175.500000</td>\n",
       "      <td>28.000000</td>\n",
       "      <td>1.000000</td>\n",
       "    </tr>\n",
       "    <tr>\n",
       "      <th>75%</th>\n",
       "      <td>18.250000</td>\n",
       "      <td>80.500000</td>\n",
       "      <td>180.000000</td>\n",
       "      <td>31.250000</td>\n",
       "      <td>1.000000</td>\n",
       "    </tr>\n",
       "    <tr>\n",
       "      <th>max</th>\n",
       "      <td>24.000000</td>\n",
       "      <td>102.000000</td>\n",
       "      <td>190.000000</td>\n",
       "      <td>46.000000</td>\n",
       "      <td>1.000000</td>\n",
       "    </tr>\n",
       "  </tbody>\n",
       "</table>\n",
       "</div>"
      ],
      "text/plain": [
       "            code      weight      height        age     gender\n",
       "count  24.000000   24.000000   24.000000  24.000000  24.000000\n",
       "mean   12.500000   72.125000  174.208333  28.791667   0.583333\n",
       "std     7.071068   16.211409    8.900313   5.437224   0.503610\n",
       "min     1.000000   48.000000  161.000000  18.000000   0.000000\n",
       "25%     6.750000   60.000000  164.750000  25.000000   0.000000\n",
       "50%    12.500000   71.000000  175.500000  28.000000   1.000000\n",
       "75%    18.250000   80.500000  180.000000  31.250000   1.000000\n",
       "max    24.000000  102.000000  190.000000  46.000000   1.000000"
      ]
     },
     "execution_count": 9,
     "metadata": {},
     "output_type": "execute_result"
    }
   ],
   "source": [
    "test_df.describe()"
   ]
  },
  {
   "cell_type": "code",
   "execution_count": 10,
   "id": "c9bec43d",
   "metadata": {
    "execution": {
     "iopub.execute_input": "2022-02-01T02:39:17.968829Z",
     "iopub.status.busy": "2022-02-01T02:39:17.968091Z",
     "iopub.status.idle": "2022-02-01T02:39:17.971850Z",
     "shell.execute_reply": "2022-02-01T02:39:17.972360Z",
     "shell.execute_reply.started": "2022-02-01T02:32:52.997408Z"
    },
    "papermill": {
     "duration": 0.053426,
     "end_time": "2022-02-01T02:39:17.972529",
     "exception": false,
     "start_time": "2022-02-01T02:39:17.919103",
     "status": "completed"
    },
    "tags": []
   },
   "outputs": [
    {
     "data": {
      "text/plain": [
       "<bound method DataFrame.corr of     code  weight  height  age  gender\n",
       "0      1     102     188   46       1\n",
       "1      2      72     180   28       1\n",
       "2      3      48     161   28       0\n",
       "3      4      90     176   31       1\n",
       "4      5      48     164   23       0\n",
       "5      6      76     180   28       1\n",
       "6      7      62     175   30       0\n",
       "7      8      52     161   24       0\n",
       "8      9      93     190   32       1\n",
       "9     10      72     164   31       0\n",
       "10    11      70     178   24       1\n",
       "11    12      60     167   33       1\n",
       "12    13      60     178   33       1\n",
       "13    14      70     180   35       1\n",
       "14    15      70     185   33       1\n",
       "15    16      96     172   29       0\n",
       "16    17      76     180   26       1\n",
       "17    18      54     164   26       0\n",
       "18    19      78     164   28       0\n",
       "19    20      88     180   25       1\n",
       "20    21      52     165   24       1\n",
       "21    22     100     186   31       1\n",
       "22    23      68     170   25       0\n",
       "23    24      74     173   18       0>"
      ]
     },
     "execution_count": 10,
     "metadata": {},
     "output_type": "execute_result"
    }
   ],
   "source": [
    "test_df.corr"
   ]
  },
  {
   "cell_type": "code",
   "execution_count": 11,
   "id": "468a0ed2",
   "metadata": {
    "execution": {
     "iopub.execute_input": "2022-02-01T02:39:18.060110Z",
     "iopub.status.busy": "2022-02-01T02:39:18.059144Z",
     "iopub.status.idle": "2022-02-01T02:39:19.115314Z",
     "shell.execute_reply": "2022-02-01T02:39:19.114700Z",
     "shell.execute_reply.started": "2022-02-01T02:32:53.006377Z"
    },
    "papermill": {
     "duration": 1.102956,
     "end_time": "2022-02-01T02:39:19.115480",
     "exception": false,
     "start_time": "2022-02-01T02:39:18.012524",
     "status": "completed"
    },
    "tags": []
   },
   "outputs": [],
   "source": [
    "import matplotlib.pyplot as plt # visualisasi data\n",
    "import seaborn as sns # visualisasi data\n",
    "\n",
    "# output dari visualisasi data akan diarahkan ke notebook\n",
    "%matplotlib inline "
   ]
  },
  {
   "cell_type": "code",
   "execution_count": 12,
   "id": "345bef4b",
   "metadata": {
    "execution": {
     "iopub.execute_input": "2022-02-01T02:39:19.202470Z",
     "iopub.status.busy": "2022-02-01T02:39:19.201770Z",
     "iopub.status.idle": "2022-02-01T02:39:19.497335Z",
     "shell.execute_reply": "2022-02-01T02:39:19.496748Z",
     "shell.execute_reply.started": "2022-02-01T02:32:53.020152Z"
    },
    "papermill": {
     "duration": 0.339124,
     "end_time": "2022-02-01T02:39:19.497496",
     "exception": false,
     "start_time": "2022-02-01T02:39:19.158372",
     "status": "completed"
    },
    "tags": []
   },
   "outputs": [
    {
     "data": {
      "text/plain": [
       "<AxesSubplot:>"
      ]
     },
     "execution_count": 12,
     "metadata": {},
     "output_type": "execute_result"
    },
    {
     "data": {
      "image/png": "[encoded data removed]",
      "text/plain": [
       "<Figure size 432x288 with 2 Axes>"
      ]
     },
     "metadata": {
      "needs_background": "light"
     },
     "output_type": "display_data"
    }
   ],
   "source": [
    "sns.heatmap(data=test_df.corr())"
   ]
  },
  {
   "cell_type": "code",
   "execution_count": 13,
   "id": "59468476",
   "metadata": {
    "execution": {
     "iopub.execute_input": "2022-02-01T02:39:19.589006Z",
     "iopub.status.busy": "2022-02-01T02:39:19.588276Z",
     "iopub.status.idle": "2022-02-01T02:39:19.590779Z",
     "shell.execute_reply": "2022-02-01T02:39:19.591414Z",
     "shell.execute_reply.started": "2022-02-01T02:32:53.291476Z"
    },
    "papermill": {
     "duration": 0.05169,
     "end_time": "2022-02-01T02:39:19.591593",
     "exception": false,
     "start_time": "2022-02-01T02:39:19.539903",
     "status": "completed"
    },
    "tags": []
   },
   "outputs": [
    {
     "data": {
      "text/plain": [
       "1     1\n",
       "2     1\n",
       "23    1\n",
       "22    1\n",
       "21    1\n",
       "20    1\n",
       "19    1\n",
       "18    1\n",
       "17    1\n",
       "16    1\n",
       "15    1\n",
       "14    1\n",
       "13    1\n",
       "12    1\n",
       "11    1\n",
       "10    1\n",
       "9     1\n",
       "8     1\n",
       "7     1\n",
       "6     1\n",
       "5     1\n",
       "4     1\n",
       "3     1\n",
       "24    1\n",
       "Name: code, dtype: int64"
      ]
     },
     "execution_count": 13,
     "metadata": {},
     "output_type": "execute_result"
    }
   ],
   "source": [
    "test_df['code'].value_counts()"
   ]
  },
  {
   "cell_type": "code",
   "execution_count": 14,
   "id": "f65c4799",
   "metadata": {
    "execution": {
     "iopub.execute_input": "2022-02-01T02:39:19.678135Z",
     "iopub.status.busy": "2022-02-01T02:39:19.677397Z",
     "iopub.status.idle": "2022-02-01T02:39:20.032382Z",
     "shell.execute_reply": "2022-02-01T02:39:20.031839Z",
     "shell.execute_reply.started": "2022-02-01T02:32:53.300187Z"
    },
    "papermill": {
     "duration": 0.399238,
     "end_time": "2022-02-01T02:39:20.032538",
     "exception": false,
     "start_time": "2022-02-01T02:39:19.633300",
     "status": "completed"
    },
    "tags": []
   },
   "outputs": [
    {
     "data": {
      "image/png": "[encoded data removed]",
      "text/plain": [
       "<Figure size 432x288 with 1 Axes>"
      ]
     },
     "metadata": {
      "needs_background": "light"
     },
     "output_type": "display_data"
    }
   ],
   "source": [
    "test_df['code'].value_counts().plot.bar()\n",
    "plt.tight_layout()\n",
    "plt.show()"
   ]
  },
  {
   "cell_type": "code",
   "execution_count": 15,
   "id": "fbdf1691",
   "metadata": {
    "execution": {
     "iopub.execute_input": "2022-02-01T02:39:20.120228Z",
     "iopub.status.busy": "2022-02-01T02:39:20.119559Z",
     "iopub.status.idle": "2022-02-01T02:39:20.481443Z",
     "shell.execute_reply": "2022-02-01T02:39:20.480795Z",
     "shell.execute_reply.started": "2022-02-01T02:32:53.605196Z"
    },
    "papermill": {
     "duration": 0.406852,
     "end_time": "2022-02-01T02:39:20.481582",
     "exception": false,
     "start_time": "2022-02-01T02:39:20.074730",
     "status": "completed"
    },
    "tags": []
   },
   "outputs": [
    {
     "data": {
      "image/png": "[encoded data removed]",
      "text/plain": [
       "<Figure size 432x288 with 1 Axes>"
      ]
     },
     "metadata": {
      "needs_background": "light"
     },
     "output_type": "display_data"
    }
   ],
   "source": [
    "sns.countplot(data=test_df, x='code')\n",
    "plt.tight_layout()"
   ]
  },
  {
   "cell_type": "code",
   "execution_count": 16,
   "id": "0e095138",
   "metadata": {
    "execution": {
     "iopub.execute_input": "2022-02-01T02:39:20.571158Z",
     "iopub.status.busy": "2022-02-01T02:39:20.570485Z",
     "iopub.status.idle": "2022-02-01T02:39:21.398653Z",
     "shell.execute_reply": "2022-02-01T02:39:21.397862Z",
     "shell.execute_reply.started": "2022-02-01T02:32:53.961524Z"
    },
    "papermill": {
     "duration": 0.874147,
     "end_time": "2022-02-01T02:39:21.398807",
     "exception": false,
     "start_time": "2022-02-01T02:39:20.524660",
     "status": "completed"
    },
    "tags": []
   },
   "outputs": [
    {
     "data": {
      "image/png": "[encoded data removed]",
      "text/plain": [
       "<Figure size 432x288 with 1 Axes>"
      ]
     },
     "metadata": {},
     "output_type": "display_data"
    }
   ],
   "source": [
    "test_df['code'].value_counts().plot.pie(autopct='%1.1f%%', labels=None, legend=True)\n",
    "plt.tight_layout()"
   ]
  },
  {
   "cell_type": "code",
   "execution_count": 17,
   "id": "4d199fd8",
   "metadata": {
    "execution": {
     "iopub.execute_input": "2022-02-01T02:39:21.504765Z",
     "iopub.status.busy": "2022-02-01T02:39:21.504049Z",
     "iopub.status.idle": "2022-02-01T02:39:22.090790Z",
     "shell.execute_reply": "2022-02-01T02:39:22.091330Z",
     "shell.execute_reply.started": "2022-02-01T02:32:54.725457Z"
    },
    "papermill": {
     "duration": 0.648252,
     "end_time": "2022-02-01T02:39:22.091508",
     "exception": false,
     "start_time": "2022-02-01T02:39:21.443256",
     "status": "completed"
    },
    "tags": []
   },
   "outputs": [
    {
     "data": {
      "text/plain": [
       "Text(0.5, 1.0, 'gender')"
      ]
     },
     "execution_count": 17,
     "metadata": {},
     "output_type": "execute_result"
    },
    {
     "data": {
      "image/png": "[encoded data removed]",
      "text/plain": [
       "<Figure size 576x576 with 4 Axes>"
      ]
     },
     "metadata": {
      "needs_background": "light"
     },
     "output_type": "display_data"
    }
   ],
   "source": [
    "fig,ax = plt.subplots(nrows=2, ncols=2, figsize=(8,8))\n",
    "\n",
    "test_df['weight'].plot.line(ax=ax[0][0])\n",
    "ax[0][0].set_title('weight')\n",
    "\n",
    "test_df['height'].plot.line(ax=ax[0][1])\n",
    "ax[0][1].set_title('height')\n",
    "\n",
    "test_df.age.plot.line(ax=ax[1][0])\n",
    "ax[1][0].set_title('age')\n",
    "\n",
    "test_df.gender.plot.line(ax=ax[1][1])\n",
    "ax[1][1].set_title('gender')"
   ]
  },
  {
   "cell_type": "code",
   "execution_count": 18,
   "id": "88404d72",
   "metadata": {
    "execution": {
     "iopub.execute_input": "2022-02-01T02:39:22.187666Z",
     "iopub.status.busy": "2022-02-01T02:39:22.186638Z",
     "iopub.status.idle": "2022-02-01T02:39:22.636910Z",
     "shell.execute_reply": "2022-02-01T02:39:22.637461Z",
     "shell.execute_reply.started": "2022-02-01T02:32:55.296321Z"
    },
    "papermill": {
     "duration": 0.499813,
     "end_time": "2022-02-01T02:39:22.637636",
     "exception": false,
     "start_time": "2022-02-01T02:39:22.137823",
     "status": "completed"
    },
    "tags": []
   },
   "outputs": [
    {
     "data": {
      "image/png": "[encoded data removed]",
      "text/plain": [
       "<Figure size 432x288 with 1 Axes>"
      ]
     },
     "metadata": {
      "needs_background": "light"
     },
     "output_type": "display_data"
    }
   ],
   "source": [
    "test_df.plot()\n",
    "plt.tight_layout()"
   ]
  },
  {
   "cell_type": "code",
   "execution_count": 19,
   "id": "0203b492",
   "metadata": {
    "execution": {
     "iopub.execute_input": "2022-02-01T02:39:22.739564Z",
     "iopub.status.busy": "2022-02-01T02:39:22.738541Z",
     "iopub.status.idle": "2022-02-01T02:39:23.544858Z",
     "shell.execute_reply": "2022-02-01T02:39:23.544223Z",
     "shell.execute_reply.started": "2022-02-01T02:32:55.529868Z"
    },
    "papermill": {
     "duration": 0.859546,
     "end_time": "2022-02-01T02:39:23.545026",
     "exception": false,
     "start_time": "2022-02-01T02:39:22.685480",
     "status": "completed"
    },
    "tags": []
   },
   "outputs": [
    {
     "data": {
      "image/png": "[encoded data removed]",
      "text/plain": [
       "<Figure size 432x432 with 6 Axes>"
      ]
     },
     "metadata": {
      "needs_background": "light"
     },
     "output_type": "display_data"
    }
   ],
   "source": [
    "test_df.hist(figsize=(6,6), bins=10)\n",
    "plt.tight_layout()"
   ]
  },
  {
   "cell_type": "code",
   "execution_count": 20,
   "id": "91c5a65b",
   "metadata": {
    "execution": {
     "iopub.execute_input": "2022-02-01T02:39:23.645448Z",
     "iopub.status.busy": "2022-02-01T02:39:23.644455Z",
     "iopub.status.idle": "2022-02-01T02:39:23.928164Z",
     "shell.execute_reply": "2022-02-01T02:39:23.927207Z",
     "shell.execute_reply.started": "2022-02-01T02:32:56.344909Z"
    },
    "papermill": {
     "duration": 0.334853,
     "end_time": "2022-02-01T02:39:23.928321",
     "exception": false,
     "start_time": "2022-02-01T02:39:23.593468",
     "status": "completed"
    },
    "tags": []
   },
   "outputs": [
    {
     "data": {
      "image/png": "[encoded data removed]",
      "text/plain": [
       "<Figure size 432x288 with 1 Axes>"
      ]
     },
     "metadata": {
      "needs_background": "light"
     },
     "output_type": "display_data"
    }
   ],
   "source": [
    "test_df.boxplot()\n",
    "plt.tight_layout()"
   ]
  },
  {
   "cell_type": "code",
   "execution_count": 21,
   "id": "38666eab",
   "metadata": {
    "execution": {
     "iopub.execute_input": "2022-02-01T02:39:24.030335Z",
     "iopub.status.busy": "2022-02-01T02:39:24.029690Z",
     "iopub.status.idle": "2022-02-01T02:39:27.285301Z",
     "shell.execute_reply": "2022-02-01T02:39:27.285870Z",
     "shell.execute_reply.started": "2022-02-01T02:32:56.592171Z"
    },
    "papermill": {
     "duration": 3.308454,
     "end_time": "2022-02-01T02:39:27.286070",
     "exception": false,
     "start_time": "2022-02-01T02:39:23.977616",
     "status": "completed"
    },
    "tags": []
   },
   "outputs": [
    {
     "data": {
      "image/png": "[encoded data removed]",
      "text/plain": [
       "<Figure size 576x576 with 4 Axes>"
      ]
     },
     "metadata": {
      "needs_background": "light"
     },
     "output_type": "display_data"
    }
   ],
   "source": [
    "test_df.boxplot(by=\"code\", figsize=(8,8))\n",
    "plt.tight_layout()"
   ]
  },
  {
   "cell_type": "code",
   "execution_count": 22,
   "id": "7b764a50",
   "metadata": {
    "execution": {
     "iopub.execute_input": "2022-02-01T02:39:27.389571Z",
     "iopub.status.busy": "2022-02-01T02:39:27.388841Z",
     "iopub.status.idle": "2022-02-01T02:39:27.864861Z",
     "shell.execute_reply": "2022-02-01T02:39:27.866148Z",
     "shell.execute_reply.started": "2022-02-01T02:32:59.175688Z"
    },
    "papermill": {
     "duration": 0.530039,
     "end_time": "2022-02-01T02:39:27.866438",
     "exception": false,
     "start_time": "2022-02-01T02:39:27.336399",
     "status": "completed"
    },
    "tags": []
   },
   "outputs": [
    {
     "data": {
      "image/png": "[encoded data removed]",
      "text/plain": [
       "<Figure size 432x288 with 1 Axes>"
      ]
     },
     "metadata": {
      "needs_background": "light"
     },
     "output_type": "display_data"
    }
   ],
   "source": [
    "sns.scatterplot(x='age', y='gender', data=test_df, hue='code')\n",
    "plt.tight_layout()"
   ]
  },
  {
   "cell_type": "code",
   "execution_count": 23,
   "id": "c21f83dc",
   "metadata": {
    "execution": {
     "iopub.execute_input": "2022-02-01T02:39:27.998992Z",
     "iopub.status.busy": "2022-02-01T02:39:27.997958Z",
     "iopub.status.idle": "2022-02-01T02:39:34.243451Z",
     "shell.execute_reply": "2022-02-01T02:39:34.243935Z",
     "shell.execute_reply.started": "2022-02-01T02:32:59.505736Z"
    },
    "papermill": {
     "duration": 6.313387,
     "end_time": "2022-02-01T02:39:34.244122",
     "exception": false,
     "start_time": "2022-02-01T02:39:27.930735",
     "status": "completed"
    },
    "tags": []
   },
   "outputs": [
    {
     "data": {
      "image/png": "[encoded data removed]",
      "text/plain": [
       "<Figure size 768.75x720 with 20 Axes>"
      ]
     },
     "metadata": {
      "needs_background": "light"
     },
     "output_type": "display_data"
    }
   ],
   "source": [
    "sns.pairplot(test_df, hue='code', markers='+')\n",
    "plt.tight_layout()"
   ]
  },
  {
   "cell_type": "code",
   "execution_count": 24,
   "id": "1d2bbded",
   "metadata": {
    "execution": {
     "iopub.execute_input": "2022-02-01T02:39:34.354790Z",
     "iopub.status.busy": "2022-02-01T02:39:34.354033Z",
     "iopub.status.idle": "2022-02-01T02:39:34.588703Z",
     "shell.execute_reply": "2022-02-01T02:39:34.588095Z",
     "shell.execute_reply.started": "2022-02-01T02:33:05.988264Z"
    },
    "papermill": {
     "duration": 0.293138,
     "end_time": "2022-02-01T02:39:34.588841",
     "exception": false,
     "start_time": "2022-02-01T02:39:34.295703",
     "status": "completed"
    },
    "tags": []
   },
   "outputs": [
    {
     "data": {
      "image/png": "[encoded data removed]",
      "text/plain": [
       "<Figure size 432x288 with 1 Axes>"
      ]
     },
     "metadata": {
      "needs_background": "light"
     },
     "output_type": "display_data"
    }
   ],
   "source": [
    "sns.violinplot(data=test_df, y='code', x='gender', inner='quartile')\n",
    "plt.tight_layout()"
   ]
  },
  {
   "cell_type": "code",
   "execution_count": 25,
   "id": "8dd35514",
   "metadata": {
    "execution": {
     "iopub.execute_input": "2022-02-01T02:39:34.698041Z",
     "iopub.status.busy": "2022-02-01T02:39:34.697353Z",
     "iopub.status.idle": "2022-02-01T02:39:34.882822Z",
     "shell.execute_reply": "2022-02-01T02:39:34.882271Z",
     "shell.execute_reply.started": "2022-02-01T02:33:06.179306Z"
    },
    "papermill": {
     "duration": 0.241172,
     "end_time": "2022-02-01T02:39:34.882996",
     "exception": false,
     "start_time": "2022-02-01T02:39:34.641824",
     "status": "completed"
    },
    "tags": []
   },
   "outputs": [],
   "source": [
    "from sklearn.model_selection import train_test_split # pembagi dataset menjadi training dan testing set\n",
    "from sklearn.metrics import accuracy_score,confusion_matrix, classification_report # evaluasi performa model"
   ]
  },
  {
   "cell_type": "code",
   "execution_count": 26,
   "id": "227a1f07",
   "metadata": {
    "execution": {
     "iopub.execute_input": "2022-02-01T02:39:35.000146Z",
     "iopub.status.busy": "2022-02-01T02:39:34.999164Z",
     "iopub.status.idle": "2022-02-01T02:39:35.003255Z",
     "shell.execute_reply": "2022-02-01T02:39:35.002710Z",
     "shell.execute_reply.started": "2022-02-01T02:33:06.185903Z"
    },
    "papermill": {
     "duration": 0.06704,
     "end_time": "2022-02-01T02:39:35.003406",
     "exception": false,
     "start_time": "2022-02-01T02:39:34.936366",
     "status": "completed"
    },
    "tags": []
   },
   "outputs": [
    {
     "data": {
      "text/html": [
       "<div>\n",
       "<style scoped>\n",
       "    .dataframe tbody tr th:only-of-type {\n",
       "        vertical-align: middle;\n",
       "    }\n",
       "\n",
       "    .dataframe tbody tr th {\n",
       "        vertical-align: top;\n",
       "    }\n",
       "\n",
       "    .dataframe thead th {\n",
       "        text-align: right;\n",
       "    }\n",
       "</style>\n",
       "<table border=\"1\" class=\"dataframe\">\n",
       "  <thead>\n",
       "    <tr style=\"text-align: right;\">\n",
       "      <th></th>\n",
       "      <th>code</th>\n",
       "      <th>weight</th>\n",
       "      <th>height</th>\n",
       "      <th>age</th>\n",
       "    </tr>\n",
       "  </thead>\n",
       "  <tbody>\n",
       "    <tr>\n",
       "      <th>0</th>\n",
       "      <td>1</td>\n",
       "      <td>102</td>\n",
       "      <td>188</td>\n",
       "      <td>46</td>\n",
       "    </tr>\n",
       "    <tr>\n",
       "      <th>1</th>\n",
       "      <td>2</td>\n",
       "      <td>72</td>\n",
       "      <td>180</td>\n",
       "      <td>28</td>\n",
       "    </tr>\n",
       "    <tr>\n",
       "      <th>2</th>\n",
       "      <td>3</td>\n",
       "      <td>48</td>\n",
       "      <td>161</td>\n",
       "      <td>28</td>\n",
       "    </tr>\n",
       "    <tr>\n",
       "      <th>3</th>\n",
       "      <td>4</td>\n",
       "      <td>90</td>\n",
       "      <td>176</td>\n",
       "      <td>31</td>\n",
       "    </tr>\n",
       "    <tr>\n",
       "      <th>4</th>\n",
       "      <td>5</td>\n",
       "      <td>48</td>\n",
       "      <td>164</td>\n",
       "      <td>23</td>\n",
       "    </tr>\n",
       "  </tbody>\n",
       "</table>\n",
       "</div>"
      ],
      "text/plain": [
       "   code  weight  height  age\n",
       "0     1     102     188   46\n",
       "1     2      72     180   28\n",
       "2     3      48     161   28\n",
       "3     4      90     176   31\n",
       "4     5      48     164   23"
      ]
     },
     "execution_count": 26,
     "metadata": {},
     "output_type": "execute_result"
    }
   ],
   "source": [
    "X = test_df.drop(columns='gender') # menempatkan features ke dalam variable X\n",
    "X.head() # tampilkan 5 baris pertama"
   ]
  },
  {
   "cell_type": "code",
   "execution_count": 27,
   "id": "4728934d",
   "metadata": {
    "execution": {
     "iopub.execute_input": "2022-02-01T02:39:35.114401Z",
     "iopub.status.busy": "2022-02-01T02:39:35.113391Z",
     "iopub.status.idle": "2022-02-01T02:39:35.120011Z",
     "shell.execute_reply": "2022-02-01T02:39:35.120539Z",
     "shell.execute_reply.started": "2022-02-01T02:33:06.204653Z"
    },
    "papermill": {
     "duration": 0.063716,
     "end_time": "2022-02-01T02:39:35.120716",
     "exception": false,
     "start_time": "2022-02-01T02:39:35.057000",
     "status": "completed"
    },
    "tags": []
   },
   "outputs": [
    {
     "data": {
      "text/plain": [
       "0    1\n",
       "1    1\n",
       "2    0\n",
       "3    1\n",
       "4    0\n",
       "Name: gender, dtype: int64"
      ]
     },
     "execution_count": 27,
     "metadata": {},
     "output_type": "execute_result"
    }
   ],
   "source": [
    "y = test_df['gender'] # menempatkan class label (target) ke dalam variabel y\n",
    "y.head() # tampilkan 5 baris pertama"
   ]
  },
  {
   "cell_type": "code",
   "execution_count": 28,
   "id": "1a4f8c2d",
   "metadata": {
    "execution": {
     "iopub.execute_input": "2022-02-01T02:39:35.231426Z",
     "iopub.status.busy": "2022-02-01T02:39:35.230438Z",
     "iopub.status.idle": "2022-02-01T02:39:35.240076Z",
     "shell.execute_reply": "2022-02-01T02:39:35.239451Z",
     "shell.execute_reply.started": "2022-02-01T02:33:06.213270Z"
    },
    "papermill": {
     "duration": 0.066333,
     "end_time": "2022-02-01T02:39:35.240224",
     "exception": false,
     "start_time": "2022-02-01T02:39:35.173891",
     "status": "completed"
    },
    "tags": []
   },
   "outputs": [
    {
     "name": "stdout",
     "output_type": "stream",
     "text": [
      "training dataset\n",
      "(14, 4)\n",
      "(14,)\n",
      "\n",
      "testing dataset:\n",
      "(10, 4)\n",
      "(10,)\n"
     ]
    }
   ],
   "source": [
    "X_train, X_test, y_train, y_test = train_test_split(X, y, test_size=0.4, random_state=10)\n",
    "\n",
    "print('training dataset')\n",
    "print(X_train.shape)\n",
    "print(y_train.shape)\n",
    "print()\n",
    "print('testing dataset:')\n",
    "print(X_test.shape)\n",
    "print(y_test.shape)"
   ]
  },
  {
   "cell_type": "markdown",
   "id": "743f5ff0",
   "metadata": {
    "papermill": {
     "duration": 0.053476,
     "end_time": "2022-02-01T02:39:35.347803",
     "exception": false,
     "start_time": "2022-02-01T02:39:35.294327",
     "status": "completed"
    },
    "tags": []
   },
   "source": [
    "**KKN**"
   ]
  },
  {
   "cell_type": "code",
   "execution_count": 29,
   "id": "7eb0e2c2",
   "metadata": {
    "execution": {
     "iopub.execute_input": "2022-02-01T02:39:35.459489Z",
     "iopub.status.busy": "2022-02-01T02:39:35.458803Z",
     "iopub.status.idle": "2022-02-01T02:39:35.608491Z",
     "shell.execute_reply": "2022-02-01T02:39:35.607876Z",
     "shell.execute_reply.started": "2022-02-01T02:33:06.228000Z"
    },
    "papermill": {
     "duration": 0.206481,
     "end_time": "2022-02-01T02:39:35.608645",
     "exception": false,
     "start_time": "2022-02-01T02:39:35.402164",
     "status": "completed"
    },
    "tags": []
   },
   "outputs": [],
   "source": [
    "from sklearn.neighbors import KNeighborsClassifier"
   ]
  },
  {
   "cell_type": "code",
   "execution_count": 30,
   "id": "8ae1e902",
   "metadata": {
    "execution": {
     "iopub.execute_input": "2022-02-01T02:39:35.720123Z",
     "iopub.status.busy": "2022-02-01T02:39:35.719458Z",
     "iopub.status.idle": "2022-02-01T02:39:35.781387Z",
     "shell.execute_reply": "2022-02-01T02:39:35.781944Z",
     "shell.execute_reply.started": "2022-02-01T02:33:34.060570Z"
    },
    "papermill": {
     "duration": 0.119398,
     "end_time": "2022-02-01T02:39:35.782151",
     "exception": false,
     "start_time": "2022-02-01T02:39:35.662753",
     "status": "completed"
    },
    "tags": []
   },
   "outputs": [],
   "source": [
    "k_range = list(range(1,15))\n",
    "scores = []\n",
    "for k in k_range:\n",
    "    model_knn = KNeighborsClassifier(n_neighbors=k) # konfigurasi algoritma\n",
    "    model_knn.fit(X_train, y_train) # training model/classifier\n",
    "    y_pred = model_knn.predict(X_test) # melakukan prediksi\n",
    "    scores.append(accuracy_score(y_test, y_pred)) # evaluasi performa"
   ]
  },
  {
   "cell_type": "code",
   "execution_count": 31,
   "id": "86441d0b",
   "metadata": {
    "execution": {
     "iopub.execute_input": "2022-02-01T02:39:35.912250Z",
     "iopub.status.busy": "2022-02-01T02:39:35.911563Z",
     "iopub.status.idle": "2022-02-01T02:39:36.144047Z",
     "shell.execute_reply": "2022-02-01T02:39:36.143349Z",
     "shell.execute_reply.started": "2022-02-01T02:33:06.296515Z"
    },
    "papermill": {
     "duration": 0.307672,
     "end_time": "2022-02-01T02:39:36.144197",
     "exception": false,
     "start_time": "2022-02-01T02:39:35.836525",
     "status": "completed"
    },
    "tags": []
   },
   "outputs": [
    {
     "data": {
      "image/png": "[encoded data removed]",
      "text/plain": [
       "<Figure size 432x288 with 1 Axes>"
      ]
     },
     "metadata": {
      "needs_background": "light"
     },
     "output_type": "display_data"
    }
   ],
   "source": [
    "plt.plot(k_range, scores)\n",
    "plt.xlabel('Value of k for KNN')\n",
    "plt.ylabel('Accuracy Score')\n",
    "plt.title('Accuracy Scores for Values of k of k-Nearest-Neighbors')\n",
    "plt.tight_layout()\n",
    "plt.show()"
   ]
  },
  {
   "cell_type": "code",
   "execution_count": 32,
   "id": "2666b94c",
   "metadata": {
    "execution": {
     "iopub.execute_input": "2022-02-01T02:39:36.270740Z",
     "iopub.status.busy": "2022-02-01T02:39:36.270018Z",
     "iopub.status.idle": "2022-02-01T02:39:36.272907Z",
     "shell.execute_reply": "2022-02-01T02:39:36.272372Z",
     "shell.execute_reply.started": "2022-02-01T02:33:06.482794Z"
    },
    "papermill": {
     "duration": 0.071004,
     "end_time": "2022-02-01T02:39:36.273066",
     "exception": false,
     "start_time": "2022-02-01T02:39:36.202062",
     "status": "completed"
    },
    "tags": []
   },
   "outputs": [],
   "source": [
    "model_knn = KNeighborsClassifier(n_neighbors=3) # konfigurasi algoritma\n",
    "model_knn.fit(X_train,y_train) # training model/classifier\n",
    "y_pred = model_knn.predict(X_test) # melakukan prediksi"
   ]
  },
  {
   "cell_type": "code",
   "execution_count": 33,
   "id": "7d58e49a",
   "metadata": {
    "execution": {
     "iopub.execute_input": "2022-02-01T02:39:36.393104Z",
     "iopub.status.busy": "2022-02-01T02:39:36.392417Z",
     "iopub.status.idle": "2022-02-01T02:39:36.395065Z",
     "shell.execute_reply": "2022-02-01T02:39:36.395572Z",
     "shell.execute_reply.started": "2022-02-01T02:33:06.494991Z"
    },
    "papermill": {
     "duration": 0.06722,
     "end_time": "2022-02-01T02:39:36.395745",
     "exception": false,
     "start_time": "2022-02-01T02:39:36.328525",
     "status": "completed"
    },
    "tags": []
   },
   "outputs": [
    {
     "name": "stdout",
     "output_type": "stream",
     "text": [
      "0.8\n"
     ]
    }
   ],
   "source": [
    "print(accuracy_score(y_test, y_pred)) # evaluasi akurasi"
   ]
  },
  {
   "cell_type": "markdown",
   "id": "87b2b42a",
   "metadata": {
    "papermill": {
     "duration": 0.055159,
     "end_time": "2022-02-01T02:39:36.506361",
     "exception": false,
     "start_time": "2022-02-01T02:39:36.451202",
     "status": "completed"
    },
    "tags": []
   },
   "source": [
    "**Confusion Matrix**"
   ]
  },
  {
   "cell_type": "code",
   "execution_count": 34,
   "id": "e9a147b2",
   "metadata": {
    "execution": {
     "iopub.execute_input": "2022-02-01T02:39:36.632559Z",
     "iopub.status.busy": "2022-02-01T02:39:36.631782Z",
     "iopub.status.idle": "2022-02-01T02:39:36.635127Z",
     "shell.execute_reply": "2022-02-01T02:39:36.635619Z",
     "shell.execute_reply.started": "2022-02-01T02:33:06.508343Z"
    },
    "papermill": {
     "duration": 0.071396,
     "end_time": "2022-02-01T02:39:36.635791",
     "exception": false,
     "start_time": "2022-02-01T02:39:36.564395",
     "status": "completed"
    },
    "tags": []
   },
   "outputs": [
    {
     "name": "stdout",
     "output_type": "stream",
     "text": [
      "[[2 0]\n",
      " [2 6]]\n"
     ]
    }
   ],
   "source": [
    "print(confusion_matrix(y_test, y_pred)) # evaluasi confusion matrix"
   ]
  },
  {
   "cell_type": "markdown",
   "id": "f7235375",
   "metadata": {
    "papermill": {
     "duration": 0.055306,
     "end_time": "2022-02-01T02:39:36.747384",
     "exception": false,
     "start_time": "2022-02-01T02:39:36.692078",
     "status": "completed"
    },
    "tags": []
   },
   "source": [
    "Clasification Report"
   ]
  },
  {
   "cell_type": "code",
   "execution_count": 35,
   "id": "667ddd9d",
   "metadata": {
    "execution": {
     "iopub.execute_input": "2022-02-01T02:39:36.862602Z",
     "iopub.status.busy": "2022-02-01T02:39:36.861600Z",
     "iopub.status.idle": "2022-02-01T02:39:36.871940Z",
     "shell.execute_reply": "2022-02-01T02:39:36.871422Z",
     "shell.execute_reply.started": "2022-02-01T02:33:06.517353Z"
    },
    "papermill": {
     "duration": 0.068967,
     "end_time": "2022-02-01T02:39:36.872128",
     "exception": false,
     "start_time": "2022-02-01T02:39:36.803161",
     "status": "completed"
    },
    "tags": []
   },
   "outputs": [
    {
     "name": "stdout",
     "output_type": "stream",
     "text": [
      "              precision    recall  f1-score   support\n",
      "\n",
      "           0       0.50      1.00      0.67         2\n",
      "           1       1.00      0.75      0.86         8\n",
      "\n",
      "    accuracy                           0.80        10\n",
      "   macro avg       0.75      0.88      0.76        10\n",
      "weighted avg       0.90      0.80      0.82        10\n",
      "\n"
     ]
    }
   ],
   "source": [
    "print(classification_report(y_test, y_pred))"
   ]
  },
  {
   "cell_type": "markdown",
   "id": "1196c031",
   "metadata": {
    "papermill": {
     "duration": 0.056005,
     "end_time": "2022-02-01T02:39:36.986894",
     "exception": false,
     "start_time": "2022-02-01T02:39:36.930889",
     "status": "completed"
    },
    "tags": []
   },
   "source": [
    "**Support Vector Classifier**"
   ]
  },
  {
   "cell_type": "code",
   "execution_count": 36,
   "id": "201504ac",
   "metadata": {
    "execution": {
     "iopub.execute_input": "2022-02-01T02:39:37.103842Z",
     "iopub.status.busy": "2022-02-01T02:39:37.102813Z",
     "iopub.status.idle": "2022-02-01T02:39:37.106590Z",
     "shell.execute_reply": "2022-02-01T02:39:37.107220Z",
     "shell.execute_reply.started": "2022-02-01T02:33:06.531772Z"
    },
    "papermill": {
     "duration": 0.064489,
     "end_time": "2022-02-01T02:39:37.107396",
     "exception": false,
     "start_time": "2022-02-01T02:39:37.042907",
     "status": "completed"
    },
    "tags": []
   },
   "outputs": [],
   "source": [
    "from sklearn.svm import SVC"
   ]
  },
  {
   "cell_type": "code",
   "execution_count": 37,
   "id": "4d494f8f",
   "metadata": {
    "execution": {
     "iopub.execute_input": "2022-02-01T02:39:37.223643Z",
     "iopub.status.busy": "2022-02-01T02:39:37.222631Z",
     "iopub.status.idle": "2022-02-01T02:39:37.230595Z",
     "shell.execute_reply": "2022-02-01T02:39:37.231180Z",
     "shell.execute_reply.started": "2022-02-01T02:33:06.537107Z"
    },
    "papermill": {
     "duration": 0.06761,
     "end_time": "2022-02-01T02:39:37.231356",
     "exception": false,
     "start_time": "2022-02-01T02:39:37.163746",
     "status": "completed"
    },
    "tags": []
   },
   "outputs": [],
   "source": [
    "# model_svc = SVC()\n",
    "model_svc = SVC(gamma='scale')\n",
    "model_svc.fit(X_train,y_train)\n",
    "y_pred = model_svc.predict(X_test)"
   ]
  },
  {
   "cell_type": "code",
   "execution_count": 38,
   "id": "870a6d23",
   "metadata": {
    "execution": {
     "iopub.execute_input": "2022-02-01T02:39:37.348024Z",
     "iopub.status.busy": "2022-02-01T02:39:37.347113Z",
     "iopub.status.idle": "2022-02-01T02:39:37.379879Z",
     "shell.execute_reply": "2022-02-01T02:39:37.380449Z",
     "shell.execute_reply.started": "2022-02-01T02:33:06.552361Z"
    },
    "papermill": {
     "duration": 0.092186,
     "end_time": "2022-02-01T02:39:37.380630",
     "exception": false,
     "start_time": "2022-02-01T02:39:37.288444",
     "status": "completed"
    },
    "tags": []
   },
   "outputs": [],
   "source": [
    "# Decicion Tree\n",
    "\n",
    "from sklearn.tree import DecisionTreeClassifier"
   ]
  },
  {
   "cell_type": "code",
   "execution_count": 39,
   "id": "ee3036b7",
   "metadata": {
    "execution": {
     "iopub.execute_input": "2022-02-01T02:39:37.496210Z",
     "iopub.status.busy": "2022-02-01T02:39:37.495197Z",
     "iopub.status.idle": "2022-02-01T02:39:37.504538Z",
     "shell.execute_reply": "2022-02-01T02:39:37.505041Z",
     "shell.execute_reply.started": "2022-02-01T02:33:06.559598Z"
    },
    "papermill": {
     "duration": 0.068854,
     "end_time": "2022-02-01T02:39:37.505231",
     "exception": false,
     "start_time": "2022-02-01T02:39:37.436377",
     "status": "completed"
    },
    "tags": []
   },
   "outputs": [],
   "source": [
    "model_dt = DecisionTreeClassifier()\n",
    "model_dt.fit(X_train,y_train)\n",
    "y_pred = model_dt.predict(X_test)"
   ]
  },
  {
   "cell_type": "code",
   "execution_count": 40,
   "id": "4fed49d3",
   "metadata": {
    "execution": {
     "iopub.execute_input": "2022-02-01T02:39:37.621354Z",
     "iopub.status.busy": "2022-02-01T02:39:37.620486Z",
     "iopub.status.idle": "2022-02-01T02:39:37.652270Z",
     "shell.execute_reply": "2022-02-01T02:39:37.651652Z",
     "shell.execute_reply.started": "2022-02-01T02:33:06.573375Z"
    },
    "papermill": {
     "duration": 0.090691,
     "end_time": "2022-02-01T02:39:37.652458",
     "exception": false,
     "start_time": "2022-02-01T02:39:37.561767",
     "status": "completed"
    },
    "tags": []
   },
   "outputs": [],
   "source": [
    "#RFC\n",
    "\n",
    "from sklearn.ensemble import RandomForestClassifier"
   ]
  },
  {
   "cell_type": "code",
   "execution_count": 41,
   "id": "3c3e24b8",
   "metadata": {
    "execution": {
     "iopub.execute_input": "2022-02-01T02:39:37.779705Z",
     "iopub.status.busy": "2022-02-01T02:39:37.778620Z",
     "iopub.status.idle": "2022-02-01T02:39:37.958556Z",
     "shell.execute_reply": "2022-02-01T02:39:37.959121Z",
     "shell.execute_reply.started": "2022-02-01T02:33:06.579381Z"
    },
    "papermill": {
     "duration": 0.249988,
     "end_time": "2022-02-01T02:39:37.959298",
     "exception": false,
     "start_time": "2022-02-01T02:39:37.709310",
     "status": "completed"
    },
    "tags": []
   },
   "outputs": [],
   "source": [
    "# model_rf = RandomForestClassifier()\n",
    "model_rf = RandomForestClassifier(n_estimators=100)\n",
    "model_rf.fit(X_train,y_train)\n",
    "pred_rf = model_rf.predict(X_test)"
   ]
  },
  {
   "cell_type": "code",
   "execution_count": 42,
   "id": "9d64191c",
   "metadata": {
    "execution": {
     "iopub.execute_input": "2022-02-01T02:39:38.077003Z",
     "iopub.status.busy": "2022-02-01T02:39:38.075925Z",
     "iopub.status.idle": "2022-02-01T02:39:38.098808Z",
     "shell.execute_reply": "2022-02-01T02:39:38.099342Z",
     "shell.execute_reply.started": "2022-02-01T02:33:06.725691Z"
    },
    "papermill": {
     "duration": 0.083404,
     "end_time": "2022-02-01T02:39:38.099521",
     "exception": false,
     "start_time": "2022-02-01T02:39:38.016117",
     "status": "completed"
    },
    "tags": []
   },
   "outputs": [
    {
     "name": "stdout",
     "output_type": "stream",
     "text": [
      "[0.8, 0.2, 0.8, 0.8]\n"
     ]
    }
   ],
   "source": [
    "models = [model_knn, model_svc, model_dt, model_rf]\n",
    "accuracy_scores = []\n",
    "for model in models:\n",
    "    y_pred = model.predict(X_test)\n",
    "    accuracy = accuracy_score(y_test, y_pred)\n",
    "    accuracy_scores.append(accuracy)\n",
    "    \n",
    "print(accuracy_scores)"
   ]
  },
  {
   "cell_type": "code",
   "execution_count": 43,
   "id": "5fe69e52",
   "metadata": {
    "execution": {
     "iopub.execute_input": "2022-02-01T02:39:38.216731Z",
     "iopub.status.busy": "2022-02-01T02:39:38.215724Z",
     "iopub.status.idle": "2022-02-01T02:39:38.369757Z",
     "shell.execute_reply": "2022-02-01T02:39:38.368764Z",
     "shell.execute_reply.started": "2022-02-01T02:33:06.756327Z"
    },
    "papermill": {
     "duration": 0.213487,
     "end_time": "2022-02-01T02:39:38.370028",
     "exception": false,
     "start_time": "2022-02-01T02:39:38.156541",
     "status": "completed"
    },
    "tags": []
   },
   "outputs": [
    {
     "data": {
      "image/png": "[encoded data removed]",
      "text/plain": [
       "<Figure size 432x288 with 1 Axes>"
      ]
     },
     "metadata": {
      "needs_background": "light"
     },
     "output_type": "display_data"
    }
   ],
   "source": [
    "plt.bar(['KNN', 'SVC', 'DT', 'RF'],accuracy_scores)\n",
    "plt.ylim(0.90,1.01)\n",
    "plt.title('Accuracy comparision for various models', fontsize=15, color='r')\n",
    "plt.xlabel('Models', fontsize=18, color='g')\n",
    "plt.ylabel('Accuracy Score', fontsize=18, color='g')\n",
    "plt.tight_layout()\n",
    "plt.show()"
   ]
  }
 ],
 "metadata": {
  "kernelspec": {
   "display_name": "Python 3",
   "language": "python",
   "name": "python3"
  },
  "language_info": {
   "codemirror_mode": {
    "name": "ipython",
    "version": 3
   },
   "file_extension": ".py",
   "mimetype": "text/x-python",
   "name": "python",
   "nbconvert_exporter": "python",
   "pygments_lexer": "ipython3",
   "version": "3.7.12"
  },
  "papermill": {
   "default_parameters": {},
   "duration": 32.48069,
   "end_time": "2022-02-01T02:39:39.253358",
   "environment_variables": {},
   "exception": null,
   "input_path": "__notebook__.ipynb",
   "output_path": "__notebook__.ipynb",
   "parameters": {},
   "start_time": "2022-02-01T02:39:06.772668",
   "version": "2.3.3"
  }
 },
 "nbformat": 4,
 "nbformat_minor": 5
}
